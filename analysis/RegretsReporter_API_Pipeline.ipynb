{
  "nbformat": 4,
  "nbformat_minor": 0,
  "metadata": {
    "colab": {
      "name": "RegretsReporter API Pipeline.ipynb",
      "provenance": [],
      "collapsed_sections": [],
      "authorship_tag": "ABX9TyOzcCoL6zXLritznXL8RUpJ",
      "include_colab_link": true
    },
    "kernelspec": {
      "name": "python3",
      "display_name": "Python 3"
    }
  },
  "cells": [
    {
      "cell_type": "markdown",
      "metadata": {
        "id": "view-in-github",
        "colab_type": "text"
      },
      "source": [
        "<a href=\"https://colab.research.google.com/github/jmccrosky/regrets-reporter/blob/master/analysis/RegretsReporter_API_Pipeline.ipynb\" target=\"_parent\"><img src=\"https://colab.research.google.com/assets/colab-badge.svg\" alt=\"Open In Colab\"/></a>"
      ]
    },
    {
      "cell_type": "code",
      "metadata": {
        "id": "4YvMmDlGs3gu"
      },
      "source": [
        "# Install needed libraries\n",
        "\n",
        "!pip install -U google-api-python-client google-auth-oauthlib google-auth-httplib2 google-cloud-bigquery google-cloud-bigquery-storage pyarrow"
      ],
      "execution_count": null,
      "outputs": []
    },
    {
      "cell_type": "code",
      "metadata": {
        "id": "EcOrLXQ7vmPk"
      },
      "source": [
        "# Import needed libraries\n",
        "\n",
        "from apiclient.discovery import build\n",
        "from google.cloud import bigquery\n",
        "from google.cloud import bigquery_storage\n",
        "import pandas as pd\n",
        "import google.auth\n",
        "from google.colab import auth"
      ],
      "execution_count": null,
      "outputs": []
    },
    {
      "cell_type": "code",
      "metadata": {
        "id": "ZSBLboW7s-Ba"
      },
      "source": [
        "# YouTube API Key\n",
        "\n",
        "api_key='REDACTED'"
      ],
      "execution_count": null,
      "outputs": []
    },
    {
      "cell_type": "code",
      "metadata": {
        "id": "rqq9aR-1vkid"
      },
      "source": [
        "# Establish connection to YouTube API\n",
        "\n",
        "YOUTUBE_API_SERVICE_NAME = \"youtube\"\n",
        "YOUTUBE_API_VERSION = \"v3\"\n",
        "\n",
        "youtube = build(YOUTUBE_API_SERVICE_NAME, YOUTUBE_API_VERSION,\n",
        "    developerKey=api_key)"
      ],
      "execution_count": null,
      "outputs": []
    },
    {
      "cell_type": "code",
      "metadata": {
        "id": "7pXjKdfVwDik"
      },
      "source": [
        "# Schema for stored YouTube API data\n",
        "\n",
        "SCHEMA = [\n",
        "  bigquery.SchemaField(\n",
        "    \"video_id\", \"STRING\", mode=\"REQUIRED\",\n",
        "    description=\"YouTube Video ID\"),\n",
        "  bigquery.SchemaField(\n",
        "    \"language\", \"STRING\", mode=\"NULLABLE\",\n",
        "    description=\"defaultAudioLanguage specified by uploader\"),\n",
        "  bigquery.SchemaField(\n",
        "    \"tags\", \"STRING\", mode=\"REPEATED\",\n",
        "    description=\"tags as specified by uploader\"),\n",
        "  bigquery.SchemaField(\n",
        "    \"comment_count\", \"INT64\", mode=\"NULLABLE\",\n",
        "    description=\"comment count\"),\n",
        "  bigquery.SchemaField(\n",
        "    \"like_count\", \"INT64\", mode=\"NULLABLE\",\n",
        "    description=\"like count\"),\n",
        "  bigquery.SchemaField(\n",
        "    \"dislike_count\", \"INT64\", mode=\"NULLABLE\",\n",
        "    description=\"dislike count\"),\n",
        "  bigquery.SchemaField(\n",
        "    \"takedown\", \"BOOLEAN\", mode=\"REQUIRED\",\n",
        "    description=\"video has been taken down\"),\n",
        "  bigquery.SchemaField(\n",
        "    \"blocked\", \"STRING\", mode=\"REPEATED\",\n",
        "    description=\"countries video is blocked in\"),\n",
        "]"
      ],
      "execution_count": null,
      "outputs": []
    },
    {
      "cell_type": "code",
      "metadata": {
        "colab": {
          "base_uri": "https://localhost:8080/"
        },
        "id": "PESPOz5gr72q",
        "outputId": "94c12ab4-2268-4f02-94a2-12000da4a64f"
      },
      "source": [
        "# Set up access to Mozilla BigQuery\n",
        "\n",
        "auth.authenticate_user()\n",
        "credentials, your_project_id = google.auth.default(\n",
        "    scopes=[\"https://www.googleapis.com/auth/cloud-platform\"]\n",
        ")\n",
        "print('Authenticated')\n",
        "\n",
        "project_id = \"moz-fx-data-bq-regrets-report\"\n",
        "bq_client = bigquery.Client(project=project_id, credentials=credentials)\n",
        "bq_storage_client = bigquery_storage.BigQueryReadClient(credentials=credentials)"
      ],
      "execution_count": null,
      "outputs": [
        {
          "output_type": "stream",
          "text": [
            "Authenticated\n"
          ],
          "name": "stdout"
        }
      ]
    },
    {
      "cell_type": "code",
      "metadata": {
        "id": "NzVCytqbo3BN"
      },
      "source": [
        "# Define and create table for storing API data\n",
        "\n",
        "table_ref = \"moz-fx-data-shared-prod.regrets_reporter_analysis.yt_api_data_v4\"\n",
        "table = bigquery.Table(table_ref, schema=SCHEMA)\n",
        "table = bq_client.create_table(table)"
      ],
      "execution_count": null,
      "outputs": []
    },
    {
      "cell_type": "code",
      "metadata": {
        "id": "R-f4L4Klf_Df"
      },
      "source": [
        "# Specify end date for RegretsReport data to process\n",
        "\n",
        "end_date = \"2021-05-31\""
      ],
      "execution_count": null,
      "outputs": []
    },
    {
      "cell_type": "code",
      "metadata": {
        "id": "N2ymB00CryBh"
      },
      "source": [
        "# Get list of reported and trail videos from RegretsReporter data\n",
        "\n",
        "report_query = f'''\n",
        "WITH deletion_requests_t AS (\n",
        "  SELECT\n",
        "    event_metadata.client_timestamp AS timestamp,\n",
        "    data_deletion_request.extension_installation_uuid AS installation_id,\n",
        "  FROM\n",
        "    `moz-fx-data-shared-prod.regrets_reporter.regrets_reporter_update`\n",
        "  WHERE\n",
        "    date(submission_timestamp) >= \"2020-6-1\"  -- Filter on submission_timestamp is required by policy.\n",
        "    AND data_deletion_request IS NOT NULL\n",
        "),\n",
        "cleaned_t AS (\n",
        "  SELECT *\n",
        "  FROM\n",
        "    `moz-fx-data-shared-prod.regrets_reporter.regrets_reporter_update` main_t\n",
        "  LEFT JOIN\n",
        "    deletion_requests_t\n",
        "  ON\n",
        "    main_t.event_metadata.extension_installation_uuid = deletion_requests_t.installation_id\n",
        "    AND main_t.event_metadata.client_timestamp <= deletion_requests_t.timestamp\n",
        "  WHERE\n",
        "    deletion_requests_t.installation_id IS NULL\n",
        "    AND date(submission_timestamp) <= \"{end_date}\"\n",
        ")\n",
        "SELECT\n",
        "  id\n",
        "FROM UNNEST((\n",
        "  SELECT\n",
        "    video_ids\n",
        "  FROM (\n",
        "    SELECT\n",
        "      ARRAY_CONCAT_AGG(\n",
        "        ARRAY_CONCAT(\n",
        "         [regret_report.report_data.youtube_navigation_metadata.video_metadata.video_id],\n",
        "         ARRAY((SELECT video_metadata.video_id FROM UNNEST(regret_report.report_data.parent_youtube_navigations_metadata) WHERE video_metadata.video_id IS NOT NULL))\n",
        "        )\n",
        "      ) AS video_ids,\n",
        "    FROM\n",
        "      cleaned_t\n",
        "    WHERE\n",
        "      regret_report.report_data.youtube_navigation_metadata.video_metadata.video_id IS NOT NULL\n",
        "  )\n",
        ")) AS id\n",
        "GROUP BY id\n",
        "'''\n",
        "\n",
        "report_list = bq_client.query(report_query).result().to_dataframe(bqstorage_client=bq_storage_client)"
      ],
      "execution_count": null,
      "outputs": []
    },
    {
      "cell_type": "code",
      "metadata": {
        "id": "qvwQtB2GpR1l"
      },
      "source": [
        "# Get list of already-acquired API data\n",
        "\n",
        "acquired_query = '''\n",
        "SELECT\n",
        "  video_id\n",
        "FROM\n",
        "  `moz-fx-data-shared-prod.regrets_reporter_analysis.yt_api_data_v4`\n",
        "'''\n",
        "\n",
        "acquired_list = bq_client.query(acquired_query).result().to_dataframe(bqstorage_client=bq_storage_client)"
      ],
      "execution_count": null,
      "outputs": []
    },
    {
      "cell_type": "code",
      "metadata": {
        "id": "DWcxRa0BgOtL"
      },
      "source": [
        "# Run pipeline to fetch API data, storing to BigQuery after every 10 videos\n",
        "\n",
        "table_ref = \"moz-fx-data-shared-prod.regrets_reporter_analysis.yt_api_data_v4\"\n",
        "table = bigquery.Table(table_ref, schema=SCHEMA)\n",
        "\n",
        "if len(acquired_list) > 0:\n",
        "  needed = [v for v in report_list.id if v not in list(acquired_list.video_id)]\n",
        "else:\n",
        "  needed = [v for v in report_list.id]\n",
        "ids = []\n",
        "languages = []\n",
        "tag_lists = []\n",
        "dislike_counts = []\n",
        "like_counts = []\n",
        "comment_counts = []\n",
        "takedowns = []\n",
        "blocked_country_lists = []\n",
        "for v in needed:\n",
        "  request = youtube.videos().list(\n",
        "    part=\"snippet,statistics,contentDetails\",\n",
        "    id=v\n",
        "  )\n",
        "  response = request.execute()\n",
        "\n",
        "  takedown = False\n",
        "  tags = []\n",
        "  language = None\n",
        "  comment_count = None\n",
        "  like_count = None\n",
        "  dislike_count = None\n",
        "  blocked_countries = []\n",
        "  if len(response['items'])==0:\n",
        "    takedown = True\n",
        "  else:\n",
        "    if \"tags\" in response['items'][0]['snippet']:\n",
        "      tags = response[\"items\"][0][\"snippet\"][\"tags\"]\n",
        "    if \"regionRestriction\" in response['items'][0]['contentDetails'] and \"blocked\" in response['items'][0]['contentDetails']['regionRestriction']:\n",
        "      blocked_countries = response['items'][0]['contentDetails']['regionRestriction']['blocked']    \n",
        "    if 'defaultAudioLanguage' in response[\"items\"][0][\"snippet\"]:\n",
        "      language = response[\"items\"][0][\"snippet\"]['defaultAudioLanguage']\n",
        "    if 'defaultLanguage' in response[\"items\"][0][\"snippet\"]:\n",
        "      language = response[\"items\"][0][\"snippet\"]['defaultLanguage']\n",
        "    if 'statistics' in response['items'][0]:\n",
        "      if 'dislikeCount' in response['items'][0]['statistics']:\n",
        "        dislike_count = response['items'][0]['statistics']['dislikeCount']\n",
        "      if 'likeCount' in response['items'][0]['statistics']:\n",
        "        like_count = response['items'][0]['statistics']['likeCount']\n",
        "      if 'commentCount' in response['items'][0]['statistics']:\n",
        "        comment_count = response['items'][0]['statistics']['commentCount']\n",
        "  ids = ids + [v]\n",
        "  languages = languages + [language]\n",
        "  tag_lists = tag_lists + [tags]\n",
        "  dislike_counts = dislike_counts + [dislike_count]\n",
        "  like_counts = like_counts + [like_count]\n",
        "  comment_counts = comment_counts + [comment_count]\n",
        "  takedowns = takedowns + [takedown]\n",
        "  blocked_country_lists = blocked_country_lists + [blocked_countries]\n",
        "  print(\"loading row with {} tags\".format(len(tags)))\n",
        "  if len(ids) >= 10:\n",
        "    job_config = bigquery.LoadJobConfig(\n",
        "          write_disposition=\"WRITE_APPEND\",\n",
        "          schema=SCHEMA,\n",
        "      )\n",
        "    \n",
        "    load_job = bq_client.load_table_from_json(\n",
        "        pd.DataFrame({\"video_id\": ids, \"language\":languages, \"tags\":tag_lists, \"comment_count\":comment_counts, \"like_count\":like_counts, \"dislike_count\":dislike_counts, \"takedown\":takedowns, \"blocked\":blocked_country_lists}).to_dict(orient='records'),\n",
        "        table,\n",
        "        job_config=job_config,\n",
        "    )\n",
        "    load_job.result()\n",
        "    ids = []\n",
        "    languages = []\n",
        "    tag_lists = []\n",
        "    dislike_counts = []\n",
        "    like_counts = []\n",
        "    comment_counts = []\n",
        "    takedowns = []\n",
        "    blocked_country_lists = []"
      ],
      "execution_count": null,
      "outputs": []
    },
    {
      "cell_type": "code",
      "metadata": {
        "id": "mg7NVp5Dx0BR"
      },
      "source": [
        ""
      ],
      "execution_count": null,
      "outputs": []
    }
  ]
}