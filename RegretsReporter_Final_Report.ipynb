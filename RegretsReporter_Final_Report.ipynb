{
  "nbformat": 4,
  "nbformat_minor": 0,
  "metadata": {
    "colab": {
      "name": "RegretsReporter Final Report.ipynb",
      "provenance": [],
      "collapsed_sections": [
        "sTw0CoET6ZtK",
        "Mvwz4KfhsLlK",
        "ENnjMFy-XGbq",
        "yH9cYurSpfc1",
        "2I3a9K-Zs_Fc"
      ],
      "toc_visible": true,
      "authorship_tag": "ABX9TyO3iW+4xjLaqkx8SIBTLmp1",
      "include_colab_link": true
    },
    "kernelspec": {
      "name": "python3",
      "display_name": "Python 3"
    },
    "language_info": {
      "name": "python"
    }
  },
  "cells": [
    {
      "cell_type": "markdown",
      "metadata": {
        "id": "view-in-github",
        "colab_type": "text"
      },
      "source": [
        "<a href=\"https://colab.research.google.com/github/jmccrosky/regrets-reporter/blob/master/RegretsReporter_Final_Report.ipynb\" target=\"_parent\"><img src=\"https://colab.research.google.com/assets/colab-badge.svg\" alt=\"Open In Colab\"/></a>"
      ]
    },
    {
      "cell_type": "markdown",
      "metadata": {
        "id": "E2NAML-gdlkh"
      },
      "source": [
        "# Setup"
      ]
    },
    {
      "cell_type": "markdown",
      "metadata": {
        "id": "S1SGFpVfdoQR"
      },
      "source": [
        "## Install and import needed libraries"
      ]
    },
    {
      "cell_type": "code",
      "metadata": {
        "id": "jDGYWQCZf7n6"
      },
      "source": [
        "!pip install -U google-cloud-bigquery google-cloud-bigquery-storage pyarrow dateparser gspread-dataframe gspread wbpy"
      ],
      "execution_count": null,
      "outputs": []
    },
    {
      "cell_type": "code",
      "metadata": {
        "id": "tCIl4if8db8z"
      },
      "source": [
        "from google.colab import auth\n",
        "from google.cloud import bigquery\n",
        "from google.cloud import bigquery_storage\n",
        "import google.auth\n",
        "\n",
        "import pandas as pd\n",
        "from pandas.io.json import json_normalize\n",
        "import numpy as np\n",
        "from packaging import version\n",
        "import itertools\n",
        "import json\n",
        "import matplotlib.pyplot as plt\n",
        "import seaborn as sb\n",
        "\n",
        "from datetime import datetime, timedelta\n",
        "from plotly.offline import iplot\n",
        "import plotly.graph_objs as go\n",
        "from statsmodels.stats.proportion import proportions_ztest, proportion_confint\n",
        "import nltk\n",
        "import dateparser\n",
        "from google.colab import data_table\n",
        "\n",
        "import gspread_dataframe as gd\n",
        "import gspread\n",
        "from oauth2client.client import GoogleCredentials\n",
        "import statsmodels.formula.api as smf\n",
        "\n",
        "import math\n",
        "\n",
        "import statsmodels.formula.api as smf\n",
        "import statsmodels.api as sm\n",
        "\n",
        "from google.colab import data_table\n",
        "\n",
        "import wbpy"
      ],
      "execution_count": null,
      "outputs": []
    },
    {
      "cell_type": "markdown",
      "metadata": {
        "id": "AqnwgsMHdyS7"
      },
      "source": [
        "## Set up data access"
      ]
    },
    {
      "cell_type": "code",
      "metadata": {
        "id": "u0Ac61tmdtxZ"
      },
      "source": [
        "# Access/Permissions bug: https://bugzilla.mozilla.org/show_bug.cgi?id=1654078\n",
        "# Data collection bug: https://bugzilla.mozilla.org/show_bug.cgi?id=1644107\n",
        "# Note that this code is published as documentation of our research, but data access is restricted to selected Mozilla employees and contractors.\n",
        "\n",
        "auth.authenticate_user()\n",
        "credentials, your_project_id = google.auth.default(\n",
        "    scopes=[\"https://www.googleapis.com/auth/cloud-platform\"]\n",
        ")\n",
        "print('Authenticated')\n",
        "\n",
        "project_id = \"moz-fx-data-bq-regrets-report\"\n",
        "bq_client = bigquery.Client(project=project_id, credentials=credentials)\n",
        "bq_storage_client = bigquery_storage.BigQueryReadClient(credentials=credentials)\n",
        "\n",
        "gc = gspread.authorize(GoogleCredentials.get_application_default())"
      ],
      "execution_count": null,
      "outputs": []
    },
    {
      "cell_type": "markdown",
      "metadata": {
        "id": "zNTsZLtIeJQ9"
      },
      "source": [
        "## Specify data end date"
      ]
    },
    {
      "cell_type": "code",
      "metadata": {
        "id": "cc5W28Vxd4V0"
      },
      "source": [
        "end_date = '2021-5-31' # This cut-off date was used for final analysis performed in early June."
      ],
      "execution_count": null,
      "outputs": []
    },
    {
      "cell_type": "markdown",
      "metadata": {
        "id": "NRKwZz2976gG"
      },
      "source": [
        "## Specify outliers for removal"
      ]
    },
    {
      "cell_type": "code",
      "metadata": {
        "id": "dwBVB1hQ79Sx"
      },
      "source": [
        "# Two volunteers issued an exceptional number of reports, suggesting they made use of the extension differently\n",
        "# from the rest of the volunteer population.  They are excluded from analysis for better generalizability.\n",
        "\n",
        "outliers = [\"401b32e1-2ebd-4144-97c3-6d8e8e20bbc6\", \"c6c231d7-d3ae-4048-8feb-7710e4ba3305\"]\n",
        "outliers_bq_string = \", \".join([\"'\" + i + \"'\" for i in outliers])"
      ],
      "execution_count": null,
      "outputs": []
    },
    {
      "cell_type": "markdown",
      "metadata": {
        "id": "RzbvOHHWeRKJ"
      },
      "source": [
        "## Utility Functions"
      ]
    },
    {
      "cell_type": "code",
      "metadata": {
        "id": "gJpYaRHveMzf"
      },
      "source": [
        "# Calculate confidence interval for proportion, either as limits or deltas from center\n",
        "\n",
        "def my_prop_confint(count, nobs, for_plot=True):\n",
        "  low, high = proportion_confint(count, nobs, method=\"agresti_coull\")\n",
        "  prop = count / nobs\n",
        "  if for_plot:\n",
        "    return (prop, prop - low, high - prop)\n",
        "  return (prop, low, high)"
      ],
      "execution_count": null,
      "outputs": []
    },
    {
      "cell_type": "markdown",
      "metadata": {
        "id": "ToeST_sCeZnU"
      },
      "source": [
        "## Load main data"
      ]
    },
    {
      "cell_type": "code",
      "metadata": {
        "id": "p66NAAGxeWEl"
      },
      "source": [
        "# Load data from BigQuery.  Note that data deletion requests are processed\n",
        "# automatically, but we include a filter here on deletion requests just in case\n",
        "# analysis is performed between when a request is issued and when it is processed.\n",
        "\n",
        "main_query = f'''\n",
        "WITH deletion_requests_t AS (\n",
        "  SELECT\n",
        "    event_metadata.client_timestamp AS timestamp,\n",
        "    data_deletion_request.extension_installation_uuid AS installation_id,\n",
        "  FROM\n",
        "    `moz-fx-data-shared-prod.regrets_reporter.regrets_reporter_update`\n",
        "  WHERE\n",
        "    date(submission_timestamp) >= \"2020-6-1\" -- filter required by policy, but we want all deletion requests\n",
        "    AND data_deletion_request IS NOT NULL\n",
        "),\n",
        "cleaned_t AS (\n",
        "  SELECT *\n",
        "  FROM\n",
        "    `moz-fx-data-shared-prod.regrets_reporter.regrets_reporter_update` main_t\n",
        "  LEFT JOIN\n",
        "    deletion_requests_t\n",
        "  ON\n",
        "    main_t.event_metadata.extension_installation_uuid = deletion_requests_t.installation_id\n",
        "    AND main_t.event_metadata.client_timestamp <= deletion_requests_t.timestamp\n",
        "  WHERE\n",
        "    deletion_requests_t.installation_id IS NULL\n",
        "    AND date(submission_timestamp) <= \"{end_date}\"\n",
        ")\n",
        "SELECT\n",
        "  CAST(submission_timestamp AS DATE) AS submission_date,\n",
        "  event_metadata.extension_installation_uuid AS installation_id,\n",
        "  CASE \n",
        "    WHEN regret_report IS NOT NULL THEN 'regret_report'\n",
        "    WHEN youtube_usage_statistics_update IS NOT NULL THEN 'youtube_usage_statistics_update'\n",
        "    ELSE '-' \n",
        "    END AS record_type,\n",
        "  metadata.geo.country AS country,\n",
        "  regret_report.report_data.parent_youtube_navigations_metadata AS trail_data,\n",
        "  regret_report.report_data.report_data_uuid AS report_id,\n",
        "  regret_report.form_step AS regret_form_step,\n",
        "  regret_report.report_data.youtube_navigation_metadata.video_metadata.video_id AS regret_video_id,\n",
        "  regret_report.report_data.youtube_navigation_metadata.video_metadata.video_title AS regret_video_title,\n",
        "  regret_report.report_data.youtube_navigation_metadata.video_metadata.video_description AS regret_video_description,\n",
        "  regret_report.report_data.youtube_navigation_metadata.video_metadata.view_count_at_navigation AS regret_video_view_count,\n",
        "  regret_report.report_data.youtube_navigation_metadata.video_metadata.video_posting_date AS view_posting_date,\n",
        "  regret_report.user_supplied_regret_categories AS regret_categories,\n",
        "  regret_report IS NOT NULL AS regret_total,\n",
        "  regret_report.report_data.youtube_navigation_metadata.via_search_results AS regret_search,\n",
        "  regret_report.report_data.youtube_navigation_metadata.via_non_search_algorithmic_recommendations_content AS regret_recc,\n",
        "  regret_report.report_data.youtube_navigation_metadata.via_recommendations_with_an_explicit_query_or_constraint_to_optimize_for AS regret_query,\n",
        "  regret_report.report_data.parent_youtube_navigations_metadata AS regret_report_watch_history,\n",
        "  youtube_usage_statistics_update.amount_of_youtube_videos_played_on_youtube_watch_pages.in_total AS watch_page_videos_total,\n",
        "  youtube_usage_statistics_update.amount_of_youtube_videos_played_on_youtube_watch_pages.via_non_search_algorithmic_recommendations_content AS watch_page_videos_recc,\n",
        "  youtube_usage_statistics_update.amount_of_youtube_videos_played_on_youtube_watch_pages.via_recommendations_with_an_explicit_query_or_constraint_to_optimize_for AS watch_page_videos_query,\n",
        "  youtube_usage_statistics_update.amount_of_youtube_videos_played_on_youtube_watch_pages.via_search_results AS watch_page_videos_search,\n",
        "  regret_report.report_data.youtube_usage_statistics_update.amount_of_youtube_videos_played_on_youtube_watch_pages.in_total AS report_watch_page_videos_total,\n",
        "  regret_report.report_data.youtube_usage_statistics_update.amount_of_youtube_videos_played_on_youtube_watch_pages.via_non_search_algorithmic_recommendations_content AS report_watch_page_videos_recc,\n",
        "  regret_report.report_data.youtube_usage_statistics_update.amount_of_youtube_videos_played_on_youtube_watch_pages.via_recommendations_with_an_explicit_query_or_constraint_to_optimize_for AS report_watch_page_videos_query,\n",
        "  regret_report.report_data.youtube_usage_statistics_update.amount_of_youtube_videos_played_on_youtube_watch_pages.via_search_results AS report_watch_page_videos_search,\n",
        "FROM\n",
        "  cleaned_t\n",
        "ORDER BY event_metadata.client_timestamp\n",
        "'''\n",
        "\n",
        "main_data = bq_client.query(main_query).result().to_dataframe(bqstorage_client=bq_storage_client)"
      ],
      "execution_count": null,
      "outputs": []
    },
    {
      "cell_type": "code",
      "metadata": {
        "id": "CvkimCOvefOo"
      },
      "source": [
        "# Multiple records are recorded for each regret report, so filter to just the record with the most complete data.\n",
        "\n",
        "reports_data = main_data.query(\"record_type=='regret_report'\").sort_values(\"regret_form_step\").drop_duplicates(subset=\"report_id\", keep=\"last\", ignore_index=True)"
      ],
      "execution_count": null,
      "outputs": []
    },
    {
      "cell_type": "code",
      "metadata": {
        "id": "n57OyvJTepbH"
      },
      "source": [
        "# When there are duplicate reports, prefer retention of those that have categories reported.\n",
        "\n",
        "reports_data[\"has_cat\"] = [len(r.regret_categories) > 0 for i, r in reports_data.iterrows()]\n",
        "duplicate_reports = reports_data[reports_data.sort_values([\"has_cat\"], ascending=False).duplicated(subset=[\"regret_video_id\", \"installation_id\"], keep=\"last\")].report_id\n",
        "\n",
        "# Remove outliers\n",
        "\n",
        "clean_reports_data = reports_data[~reports_data.installation_id.isin(outliers)]\n",
        "\n",
        "# Some processing to attempt to determine how old the video was at reporting time.\n",
        "\n",
        "clean_reports_data['parsed_date'] = [None if i is None else dateparser.parse(i.replace(\"Premiered\", \"\").replace(\"on\", \"\").replace(\"Streamed\", \"\").replace(\"live\", \"\")) for i in clean_reports_data.view_posting_date]\n",
        "clean_reports_data['age'] = [None if r.parsed_date is None else (pd.to_datetime(r.submission_date) - pd.to_datetime(r.parsed_date).tz_localize(None)).days for i, r in clean_reports_data.iterrows()]"
      ],
      "execution_count": null,
      "outputs": []
    },
    {
      "cell_type": "markdown",
      "metadata": {
        "id": "H_bO8Kjcri2t"
      },
      "source": [
        "## Generate trail data"
      ]
    },
    {
      "cell_type": "code",
      "metadata": {
        "id": "KYt3ZaCmrk2b"
      },
      "source": [
        "# Data on number of views and age of video at reporting time for vidoes watched before regret reports.\n",
        "\n",
        "all_trail_views = [\n",
        "  None if j[\"video_metadata\"] is None\n",
        "  else j[\"video_metadata\"]['view_count_at_navigation']\n",
        "  for i, r in clean_reports_data.iterrows() for j in r.trail_data\n",
        "]\n",
        "\n",
        "all_trail_ages = [\n",
        "  None if (None if (j[\"video_metadata\"] is None or j[\"video_metadata\"]['video_posting_date'] is None) else dateparser.parse(j[\"video_metadata\"]['video_posting_date'].replace(\"Premiered\", \"\").replace(\"on\", \"\").replace(\"Streamed\", \"\").replace(\"live\", \"\"))) is None\n",
        "  else (pd.to_datetime(r.submission_date) - pd.to_datetime(dateparser.parse(j[\"video_metadata\"]['video_posting_date'].replace(\"Premiered\", \"\").replace(\"on\", \"\").replace(\"Streamed\", \"\").replace(\"live\", \"\"))).tz_localize(None)).days\n",
        "  for i, r in clean_reports_data.iterrows() for j in r.trail_data\n",
        "]\n",
        "\n",
        "trails_data = pd.DataFrame({\n",
        "    \"age\": all_trail_ages,\n",
        "    \"views\": all_trail_views\n",
        "})"
      ],
      "execution_count": null,
      "outputs": []
    },
    {
      "cell_type": "markdown",
      "metadata": {
        "id": "YESHt34M0lOW"
      },
      "source": [
        "## Generate user-level data"
      ]
    },
    {
      "cell_type": "code",
      "metadata": {
        "id": "7yIOu87d0nGU"
      },
      "source": [
        "# Generate data with user-level summaries of reports and YT usage.  Note that data\n",
        "# deletion requests are processed\n",
        "# automatically, but we include a filter here on deletion requests just in case\n",
        "# analysis is performed between when a request is issued and when it is processed.\n",
        "# Note also exclusion of data more than two months after a user's last report (or first appearance, if no reports were made)\n",
        "\n",
        "uls2_query = f'''\n",
        "WITH deletion_requests_t AS (\n",
        "  SELECT\n",
        "    event_metadata.client_timestamp AS timestamp,\n",
        "    data_deletion_request.extension_installation_uuid AS installation_id,\n",
        "  FROM\n",
        "    `moz-fx-data-shared-prod.regrets_reporter.regrets_reporter_update`\n",
        "  WHERE\n",
        "    date(submission_timestamp) >= \"2020-6-1\" -- filter required by policy, but we want all deletion requests\n",
        "    AND data_deletion_request IS NOT NULL\n",
        "),\n",
        "f_cleaned_t AS (\n",
        "  SELECT *, event_metadata.extension_installation_uuid AS id\n",
        "  FROM\n",
        "    `moz-fx-data-shared-prod.regrets_reporter.regrets_reporter_update` main_t\n",
        "  LEFT JOIN\n",
        "    deletion_requests_t\n",
        "  ON\n",
        "    main_t.event_metadata.extension_installation_uuid = deletion_requests_t.installation_id\n",
        "    AND main_t.event_metadata.client_timestamp <= deletion_requests_t.timestamp\n",
        "  WHERE\n",
        "    deletion_requests_t.installation_id IS NULL\n",
        "    AND date(submission_timestamp) <= \"{end_date}\"\n",
        "    AND event_metadata.extension_installation_uuid NOT IN ({outliers_bq_string})\n",
        "),\n",
        "last_report_t AS (\n",
        "  SELECT\n",
        "    id,\n",
        "    MAX(CAST (submission_timestamp AS DATE)) AS last_report\n",
        "  FROM\n",
        "    f_cleaned_t\n",
        "  WHERE\n",
        "    regret_report IS NOT NULL\n",
        "  GROUP BY\n",
        "    id\n",
        "),\n",
        "first_seen_t AS (\n",
        "  SELECT\n",
        "    id,\n",
        "    MIN(CAST (submission_timestamp AS DATE)) AS first_seen\n",
        "  FROM\n",
        "    f_cleaned_t\n",
        "  GROUP BY\n",
        "    id\n",
        "),\n",
        "date_filter_t AS (\n",
        "  SELECT\n",
        "    id,\n",
        "    DATE_ADD(COALESCE(last_report, first_seen), INTERVAL 28 * 2 DAY) AS filter_date\n",
        "  FROM\n",
        "    first_seen_t LEFT JOIN last_report_t USING(id)\n",
        "),\n",
        "cleaned_t AS (\n",
        "  SELECT *\n",
        "  FROM f_cleaned_t JOIN date_filter_t USING(id)\n",
        "  WHERE\n",
        "    CAST(submission_timestamp AS DATE) <= filter_date\n",
        "),\n",
        "main_t AS (\n",
        "SELECT\n",
        "  metadata.geo.country AS country,\n",
        "  CAST(submission_timestamp AS DATE) AS submission_date,\n",
        "  id AS installation_id,\n",
        "  regret_report.report_data.report_data_uuid AS report_id,\n",
        "  regret_report.report_data.youtube_navigation_metadata.video_metadata.video_id AS regret_video_id,\n",
        "\n",
        "  IF(regret_report IS NOT NULL, 1, 0) AS regret_total,\n",
        "  regret_report.report_data.youtube_navigation_metadata.via_search_results AS regret_search,\n",
        "  IF(regret_report.report_data.youtube_navigation_metadata.via_search_results = -1, 1, 0) AS regret_unknown,\n",
        "  regret_report.report_data.youtube_navigation_metadata.via_non_search_algorithmic_recommendations_content AS regret_recc,\n",
        "  regret_report.report_data.youtube_navigation_metadata.via_recommendations_with_an_explicit_query_or_constraint_to_optimize_for AS regret_query,\n",
        "\n",
        "  youtube_usage_statistics_update.amount_of_youtube_videos_played_on_youtube_watch_pages.in_total AS watch_page_videos_total,\n",
        "  youtube_usage_statistics_update.amount_of_youtube_videos_played_on_youtube_watch_pages.via_non_search_algorithmic_recommendations_content AS watch_page_videos_recc,\n",
        "  youtube_usage_statistics_update.amount_of_youtube_videos_played_on_youtube_watch_pages.via_recommendations_with_an_explicit_query_or_constraint_to_optimize_for AS watch_page_videos_query,\n",
        "  youtube_usage_statistics_update.amount_of_youtube_videos_played_on_youtube_watch_pages.via_search_results AS watch_page_videos_search,\n",
        "  regret_report.report_data.youtube_usage_statistics_update.amount_of_youtube_videos_played_on_youtube_watch_pages.in_total AS report_watch_page_videos_total,\n",
        "  regret_report.report_data.youtube_usage_statistics_update.amount_of_youtube_videos_played_on_youtube_watch_pages.via_non_search_algorithmic_recommendations_content AS report_watch_page_videos_recc,\n",
        "  regret_report.report_data.youtube_usage_statistics_update.amount_of_youtube_videos_played_on_youtube_watch_pages.via_recommendations_with_an_explicit_query_or_constraint_to_optimize_for AS report_watch_page_videos_query,\n",
        "  regret_report.report_data.youtube_usage_statistics_update.amount_of_youtube_videos_played_on_youtube_watch_pages.via_search_results AS report_watch_page_videos_search,\n",
        "FROM\n",
        "  cleaned_t\n",
        "\n",
        "ORDER BY event_metadata.client_timestamp\n",
        "),\n",
        "\n",
        "id_t AS (\n",
        "  SELECT\n",
        "    installation_id\n",
        "  FROM\n",
        "    main_t\n",
        "  GROUP BY\n",
        "    installation_id\n",
        ")\n",
        "\n",
        "SELECT\n",
        "  installation_id,\n",
        "\n",
        "  ARRAY_AGG(country)[OFFSET(0)] AS country,\n",
        "  COUNT(DISTINCT IF((regret_video_id IS NOT NULL) AND regret_total = 1, report_id, NULL)) AS regrets_total,\n",
        "  GREATEST(COALESCE(MAX(watch_page_videos_total), 0), COALESCE(MAX(report_watch_page_videos_total), 0)) AS watch_page_videos_total,\n",
        "\n",
        "  COUNT(DISTINCT IF((regret_video_id IS NOT NULL) AND regret_recc = 1, report_id, NULL)) AS regrets_recc,\n",
        "  GREATEST(COALESCE(MAX(watch_page_videos_recc), 0), COALESCE(MAX(report_watch_page_videos_recc), 0)) AS watch_page_videos_recc,\n",
        "\n",
        "  COUNT(DISTINCT IF((regret_video_id IS NOT NULL) AND regret_query = 1, report_id, NULL)) AS regrets_query,\n",
        "  GREATEST(COALESCE(MAX(watch_page_videos_query), 0), COALESCE(MAX(report_watch_page_videos_query), 0)) AS watch_page_videos_query,\n",
        "\n",
        "  COUNT(DISTINCT IF((regret_video_id IS NOT NULL) AND regret_search = 1, report_id, NULL)) AS regrets_search,\n",
        "  GREATEST(COALESCE(MAX(watch_page_videos_search), 0), COALESCE(MAX(report_watch_page_videos_search), 0)) AS watch_page_videos_search,\n",
        "\n",
        "  COUNT(DISTINCT IF((regret_video_id IS NOT NULL) AND regret_unknown = 1, report_id, NULL)) AS regrets_unknown,\n",
        "  \n",
        "FROM\n",
        "  id_t\n",
        "JOIN\n",
        "  main_t\n",
        "USING(installation_id)\n",
        "GROUP BY\n",
        "  installation_id\n",
        "'''\n",
        "\n",
        "uls2_data = bq_client.query(uls2_query).result().to_dataframe(bqstorage_client=bq_storage_client)"
      ],
      "execution_count": null,
      "outputs": []
    },
    {
      "cell_type": "markdown",
      "metadata": {
        "id": "e0V5WqqR6lUG"
      },
      "source": [
        "## Load API data"
      ]
    },
    {
      "cell_type": "code",
      "metadata": {
        "id": "-qwn4rTN6m4p"
      },
      "source": [
        "# Load video data cached from YouTube API\n",
        "\n",
        "api_query = '''\n",
        "SELECT\n",
        "  video_id,\n",
        "  ANY_VALUE(language) AS language,\n",
        "  ANY_VALUE(tags) AS tags,\n",
        "  ANY_VALUE(comment_count) AS comment_count,\n",
        "  ANY_VALUE(like_count) AS like_count,\n",
        "  ANY_VALUE(dislike_count) AS dislike_count,\n",
        "  ANY_VALUE(takedown) AS takedown,\n",
        "  ANY_VALUE(blocked) AS blocked\n",
        "FROM\n",
        "  `moz-fx-data-shared-prod.regrets_reporter_analysis.yt_api_data_v4`\n",
        "GROUP BY video_id\n",
        "'''\n",
        "api_data = bq_client.query(api_query).result().to_dataframe(bqstorage_client=bq_storage_client)\n",
        "api_data['is_blocked'] = api_data.blocked.str.len() > 0"
      ],
      "execution_count": null,
      "outputs": []
    },
    {
      "cell_type": "markdown",
      "metadata": {
        "id": "kA_yPLMJ8uUN"
      },
      "source": [
        "## Load takedown analysis data"
      ]
    },
    {
      "cell_type": "code",
      "metadata": {
        "id": "aTDsDYfg8wWF"
      },
      "source": [
        "# Load data on takedown reasons for each taken down video (manually collected)\n",
        "\n",
        "ws = gc.open(\"Takedown Videos\").worksheet(\"Sheet1\")\n",
        "td_data = gd.get_as_dataframe(ws).dropna(axis=1, how='all').dropna(how='all')\n",
        "td_data.loc[~td_data.subreason.isnull(), \"reason\"] = td_data.reason + \": \" + td_data.subreason\n",
        "td_data = td_data.drop(\"subreason\", axis=1)\n",
        "td_data.loc[td_data.reason.str.contains(\"copyright\"), \"reason\"] = \"Video unavailable: This video is no longer available due to a copyright claim\"\n",
        "td_data.loc[td_data.reason.str.contains(\"closed\"), \"reason\"] = \"Video unavailable: This video is no longer available because the YouTube account associated with this video has been terminated.\"\n",
        "td_data.loc[td_data.reason.str.contains(\"scams\"), \"reason\"] = \"This video has been removed for violating YouTube's policy on spam, deceptive practices, and scams.\"\n",
        "td_data.loc[td_data.reason.str[-1] != \".\", \"reason\"] = td_data.reason + \".\""
      ],
      "execution_count": null,
      "outputs": []
    },
    {
      "cell_type": "code",
      "metadata": {
        "id": "0JBNgGw5kg01"
      },
      "source": [
        "# Are any videos missing from the takedown analysis spreadsheet\n",
        "\n",
        "print(\"\\n\".join([\"https://www.youtube.com/watch?v=\" + i for i in api_data[(api_data.takedown) & (~ api_data.video_id.isin(td_data.link.str[-11:]))].video_id]))"
      ],
      "execution_count": null,
      "outputs": []
    },
    {
      "cell_type": "markdown",
      "metadata": {
        "id": "aeBEGHwhubEt"
      },
      "source": [
        "## Load country name data"
      ]
    },
    {
      "cell_type": "code",
      "metadata": {
        "id": "OIlAOXIVuaZ4"
      },
      "source": [
        "# Data with standardized mapping from country code to country name.\n",
        "\n",
        "country_name_query = \"select UPPER(raw_country) AS country_code, standardized_country AS country_name from `moz-fx-data-shared-prod.static.third_party_standardized_country_names`\"\n",
        "country_name_data = bq_client.query(country_name_query).result().to_dataframe(bqstorage_client=bq_storage_client)"
      ],
      "execution_count": null,
      "outputs": []
    },
    {
      "cell_type": "markdown",
      "metadata": {
        "id": "OEeJK-s-17nA"
      },
      "source": [
        "## Load research assistant data"
      ]
    },
    {
      "cell_type": "code",
      "metadata": {
        "id": "qf6gc9vv17nI"
      },
      "source": [
        "# Data from reserch assistants who assessed regret reports.\n",
        "\n",
        "ws = gc.open(\"RA Data\").worksheet(\"Sheet1\")\n",
        "ra_data = gd.get_as_dataframe(ws).rename(columns={\n",
        "    \"PDF file number\": \"file_num\",\n",
        "    \"Video ID\": \"regret_id\",\n",
        "    \"URL\": \"video_url\",\n",
        "    \"User ID\": \"ra_id\",\n",
        "    \"Content\": \"content\",\n",
        "    \"Trail\": \"trail\",\n",
        "    \"Language\": \"language\",\n",
        "    \"Should this video be on YouTube?\": \"on_yt\",\n",
        "    \"If NO, under which Community Guideline Category?\": \"category\",\n",
        "    \"Should this video be recommended?\": \"recommended\",\n",
        "    \"If NO, under which Community Guideline Subcategory?\": \"subcategory\",\n",
        "    \"What category does the trail fall into?\": \"trail_cat\",\n",
        "    \"Any guess of why it was flagged as a regret?\": \"why_regret\",\n",
        "    \"Do you think that this video talks about COVID-19? \": \"pandemic\",\n",
        "    \"Do you think that this video is particularly weird/bizarre/harmful?\": \"weird\",\n",
        "}).dropna(axis=1, how='all').dropna(how='all').fillna(\"unknown\")\n",
        "\n",
        "temp = ra_data.video_url\n",
        "ra_data = ra_data.applymap(lambda x: x.strip().lower() if isinstance(x, str) else x)\n",
        "ra_data[\"video_url\"] = temp"
      ],
      "execution_count": null,
      "outputs": []
    },
    {
      "cell_type": "code",
      "metadata": {
        "id": "IYLUh64cUlgv"
      },
      "source": [
        "ra_data.on_yt.replace([\n",
        "    \"--\",\n",
        "    \"-\",\n",
        "    \"---\",\n",
        "    \"unavailable\",\n",
        "    \"unspecified\",\n",
        "    \"unsure\",\n",
        "    \"unspecified - there is not even captions\",\n",
        "    \"n/a (cannot watch it.)\",\n",
        "    \"unable to view as video was made private\"\n",
        "], \"unknown\", inplace = True)\n",
        "\n",
        "ra_data.on_yt.replace([\n",
        "    \"unspecified but most likely yes\",\n",
        "    \"yed\",\n",
        "    \"yes (with a change to the thumbnail, but video itself is fine)\",\n",
        "], \"yes\", inplace = True)\n",
        "\n",
        "ra_data.on_yt.replace([\n",
        "    \"unspecified  - probably not\",\n",
        "], \"no\", inplace = True)"
      ],
      "execution_count": null,
      "outputs": []
    },
    {
      "cell_type": "code",
      "metadata": {
        "id": "zApqCMdsUlgw"
      },
      "source": [
        "ra_data.on_yt.value_counts()"
      ],
      "execution_count": null,
      "outputs": []
    },
    {
      "cell_type": "code",
      "metadata": {
        "id": "3ojK4P_4Vkbx"
      },
      "source": [
        "ra_data.recommended.replace([\n",
        "    \"--\",\n",
        "    \"-\",\n",
        "    \"---\",\n",
        "    \"----\",\n",
        "    \"unavailable\",\n",
        "    \"unspecified\",\n",
        "    \"unsure\",\n",
        "    \"unspecified - there is not even captions\",\n",
        "    \"unspecified - there are not even captions\",\n",
        "    \"unsure as it is a news report\",\n",
        "], \"unknown\", inplace = True)\n",
        "\n",
        "ra_data.recommended.replace([\n",
        "    \"unspecified but most likely yes\",\n",
        "    \"yed\",\n",
        "    \"yes (with a change to the thumbnail, but video itself is fine)\",\n",
        "], \"yes\", inplace = True)\n",
        "\n",
        "ra_data.recommended.replace([\n",
        "    \"unspecified  - probably not\",\n",
        "], \"no\", inplace = True)"
      ],
      "execution_count": null,
      "outputs": []
    },
    {
      "cell_type": "code",
      "metadata": {
        "id": "Mw6C_oTg3YKv"
      },
      "source": [
        "ra_data.recommended.value_counts()"
      ],
      "execution_count": null,
      "outputs": []
    },
    {
      "cell_type": "code",
      "metadata": {
        "id": "UwnCQwuUMNmU"
      },
      "source": [
        "ra_data.weird.replace([\n",
        "    \"--\",\n",
        "    \"-\",\n",
        "    \"---\",\n",
        "    \"unsure\",\n",
        "    \"unspecified\",\n",
        "    \"unsure- if it is in fact distorting the truth, then yes it is harmful. but it is hard to tell.\",\n",
        "    \"unavailable\",\n",
        "    \"weird\"\n",
        "], \"unknown\", inplace = True)\n",
        "\n",
        "ra_data[ra_data.weird.str.startswith(\"yes\")][\"weird\"] = \"yes\"\n",
        "ra_data[ra_data.weird.str.startswith(\"no\")][\"weird\"] = \"no\"\n",
        "ra_data.weird.replace([\n",
        "    \"possibly harmfu\",\n",
        "    \"harmful\",\n",
        "    \"bizarre.\",\n",
        "    \"weird, but no breach of guidelines\",\n",
        "    \"possibly harmful because of this lack of clarification about the paint\",\n",
        "    \"possibly yes\",\n",
        "    \"weird/ possibly harmful given the allegation.\",\n",
        "    \"possibly harmful\",\n",
        "    \"it can encourage harmful behavior\",\n",
        "    \"unsure (video argues people shouldn't get tested because governments are using the information to make it's citizens docile- there is emerging evidence that this is in fact the case in some countries, so it is difficult to say if this is harnmful yet)\",\n",
        "    \"to a moderate level, i won't say it should be recommended\",\n",
        "], \"yes\", inplace = True)\n",
        "\n",
        "ra_data.weird.replace([\n",
        "    \"from my personal understanding it looks like an innocent conversation but i feel i am not qualified to judge.\",\n",
        "], \"no\", inplace = True)"
      ],
      "execution_count": null,
      "outputs": []
    },
    {
      "cell_type": "code",
      "metadata": {
        "id": "p9hgtP-CMNmb"
      },
      "source": [
        "ra_data.weird.value_counts()"
      ],
      "execution_count": null,
      "outputs": []
    },
    {
      "cell_type": "code",
      "metadata": {
        "id": "kqa_mC3DZSmA"
      },
      "source": [
        "ra_data.pandemic = ra_data.pandemic.str.lower()\n",
        "ra_data.pandemic.replace([\n",
        "    \"--\",\n",
        "    \"-\",\n",
        "    \"---\",\n",
        "    \"not sure\",\n",
        "    \"unspecified\",\n",
        "    \"unsure\",\n",
        "    \"possible (live news broadcast)\"\n",
        "], \"unknown\", inplace = True)\n",
        "ra_data.pandemic.replace([\n",
        "    \"sometimes\",\n",
        "    \"probably yes\",\n",
        "    \"yes.\",\n",
        "    \"yes( from title)\",\n",
        "    \"yes (talks about its effect on the economy)\",\n",
        "], \"yes\", inplace = True)\n",
        "ra_data.pandemic.replace([\n",
        "    \"yes - the description says that the laws related to covid have been followed in the production of the video (worked out with google translate)\",\n",
        "    \"unspecified, probably not\",\n",
        "    \"unspecified - probably not\",\n",
        "    \"no.\",\n",
        "    \"probably not\",\n",
        "    \"probably not - there were no captions\",\n",
        "    \"briefly\",\n",
        "    \"yes (mentions impact of covid-19 on tyson foods)\",\n",
        "    \"briefly mentioned\",\n",
        "    \"yes (briefly mentioned)\",\n",
        "    \"no - title on pdf contains name of sitcom (my name is earl) from 2007\",\n",
        "    \"no (but videos in trail do)\",\n",
        "    \"yes (mentions it breifly when stating that she has not been travelling)\",\n",
        "    \"yes; brief mentions in the discussion\",\n",
        "    \"only briefly\",\n",
        "], \"no\", inplace = True)"
      ],
      "execution_count": null,
      "outputs": []
    },
    {
      "cell_type": "code",
      "metadata": {
        "id": "uYNt1bERR7p9"
      },
      "source": [
        "ra_data.pandemic.value_counts()"
      ],
      "execution_count": null,
      "outputs": []
    },
    {
      "cell_type": "code",
      "metadata": {
        "id": "xxIVvTRXScCy"
      },
      "source": [
        "ra_data['language'] = ra_data['language'].str.replace(r\"\\(.*\\)\",\"\").str.strip()\n",
        "\n",
        "ra_data.language.replace([\n",
        "    \"title in english, description in bosnian (google translate and video has no audio)\",\n",
        "], \"bosnian\", inplace = True)\n",
        "\n",
        "ra_data.language.replace([\n",
        "    \"title in english but theres is no lyrics\",\n",
        "    \"english in description\",\n",
        "    \"egnlish\",\n",
        "    \"englsih\",\n",
        "    \"englsh\",\n",
        "], \"english\", inplace = True)\n",
        "\n",
        "ra_data.language.replace([\n",
        "    \"majority of it is in hindi (google translate) and some is spoken in english.\",\n",
        "], \"hindi\", inplace = True)\n",
        "\n",
        "ra_data.language.replace([\n",
        "    \"portugese\",\n",
        "], \"portuguese\", inplace = True)\n",
        "\n",
        "ra_data.language.replace([\n",
        "    \"--\",\n",
        "    \"-\",\n",
        "    \"---\",\n",
        "    \"telugu, hindi\",\n",
        "    \"mostly in english and sometimes in hindi\"\n",
        "    \"english and portuguese\",\n",
        "    \"english and hindi\",\n",
        "    \"multiple\",\n",
        "    \"french and english\",\n",
        "    \"several - ruassian, english and spanish among others\",\n",
        "    \"english and portuguese\",\n",
        "    \"video title is english but the video is spoken in hindi\",\n",
        "    \"russian or english\",\n",
        "    \"none or english\",\n",
        "    \"description in english, i think audio is hungarian\",\n",
        "    \"english title with song sung in romanian\",\n",
        "    \"english and portugese\",\n",
        "    \"unavailable\",\n",
        "    \"english description. japanese song\",\n",
        "    \"dutch & english\",\n",
        "    \"mostly in english and sometimes in hindi\",\n",
        "    \"english and malayalam\",\n",
        "    \"tamil and english\",\n",
        "    \"english & chinese\",\n",
        "    \"video title is in english but video is spoken in romanian\",\n",
        "    \"not sure. but the video was watched in indonesia.\",\n",
        "    \"unsure\",\n",
        "    \"english and maybe hindi\",\n",
        "    \"no language\",\n",
        "    \"dutch  & english\",\n",
        "    \"no sound\",\n",
        "    \"hindu  and english\",\n",
        "    \"hindu and english\",\n",
        "    \"english & japanese\",\n",
        "    \"tamil  and english\",\n",
        "    \"various, the creator is english\",\n",
        "    \"english, japanese\",\n",
        "    \"title in english, description in bosnian\",\n",
        "    \"english and marathi\"\n",
        "], \"unknown\", inplace = True)"
      ],
      "execution_count": null,
      "outputs": []
    },
    {
      "cell_type": "code",
      "metadata": {
        "id": "rUmp-Q4bSFII"
      },
      "source": [
        "data_table.DataTable(pd.DataFrame(ra_data.language.value_counts()))"
      ],
      "execution_count": null,
      "outputs": []
    },
    {
      "cell_type": "code",
      "metadata": {
        "id": "pUAVsoOsIjDT"
      },
      "source": [
        "ra_data.category = ra_data.category.str.lower()\n",
        "\n",
        "ra_data.category.replace([\n",
        "    \"nudity and sexual content policies\",\n",
        "    \"unspecified - probably sensitive content\",\n",
        "    \"nudity & sexual content policies\",\n",
        "], \"sensitive content\", inplace = True)\n",
        "\n",
        "ra_data.category.replace([\n",
        "    \"spam, deceptive practices, and scams policies\",\n",
        "    \"spam & deceptive practices\",\n",
        "    \"spam and deceptive categories\",\n",
        "    \"scams and deceptive practices\",\n",
        "    \"spam or deceptive practices\",\n",
        "    \"spam, deceptive practices and scams policies\",\n",
        "    \"spam, deceptive practices, & scams policies\",\n",
        "], \"spam and deceptive practices\", inplace = True)\n",
        "\n",
        "ra_data.category.replace([\n",
        "    \"others - provide false information \",\n",
        "    \"spread of misinformation\",\n",
        "    \"other= misinformation= the conspiracy videos could misinform viewers in harmful ways.\",\n",
        "    \"others - provide false information\",\n",
        "    \"violent or dangerous content\",\n",
        "    \"violent or graphic content policies\",\n",
        "    \"violent and dangerous content\",\n",
        "    \"violent or graphic content\",\n",
        "    \"harmful and dangerous content, he recorded how he found the place for sleep, most of them were abandoned house but he have entered the construction site where work was conducting, it is really dangerous\",\n",
        "    \"dangerous content\",\n",
        "    \"hate speech\",\n",
        "    \"covid-19 medical misinformation policy\",\n",
        "    \"violent or dangerous content / sensitive content\",\n",
        "    \"legal policies or harassment & cyberbullying\",\n",
        "    \"violent ordangerous content\",\n",
        "    \"harmful or dangerous content policies\",\n",
        "    \"in my opinion it should fall under the dathegory of violent and dangerous content\",\n",
        "    \"it does not sirectly fall under the cathegory dangerous contet, vbut i would say iut potentially puts people in dager if they find it something to try\",\n",
        "], \"violent or dangerous content\", inplace = True)\n",
        "\n",
        "ra_data.category.replace([\n",
        "    \"others - provide false information \",\n",
        "    \"spread of misinformation\",\n",
        "    \"violent or graphic content policies\",\n",
        "    \"-\",\n",
        "    \"--\",\n",
        "    \"---\",\n",
        "    \"unspecified\",\n",
        "    \"other\",\n",
        "    \"other: the voice over is creepy and awkward\",\n",
        "    \"thumbnails policy\",\n",
        "    \"no\",\n",
        "    \"it doesn't fall under a particular category but could potentially impress people that don't know the outcome of the video. i would therefore not recommend it.\"\n",
        "], \"unknown\", inplace = True)\n",
        "\n",
        "ra_data.loc[ra_data.pandemic == \"yes\", \"category\"] = \"pandemic-related\""
      ],
      "execution_count": null,
      "outputs": []
    },
    {
      "cell_type": "code",
      "metadata": {
        "id": "wRL8IzqjHXkV"
      },
      "source": [
        "ra_data.category.value_counts()"
      ],
      "execution_count": null,
      "outputs": []
    },
    {
      "cell_type": "code",
      "metadata": {
        "id": "cDLx8Io9ErI0"
      },
      "source": [
        "ra_data['trail_cat'] = ra_data['trail_cat'].str.replace(r\"^(?!.*unrelated.*).*related.*$\",\"related videos\")\n",
        "ra_data['trail_cat'] = ra_data['trail_cat'].str.replace(r\"^.*unrelated.*$\",\"unrelated videos\")\n",
        "\n",
        "ra_data.trail_cat.replace([\n",
        "    \"more videos like the reported video.\",\n",
        "    \"more videos like the reported video\",\n",
        "    \"vaguely related videos.\",\n",
        "    \"video like the reported video.\",\n",
        "    \"some videos like the reported video.\",\n",
        "    \"more videos like the reported video and completely unrelated to the reported video\",\n",
        "    \"other (some videos in the trail are similar but some are comletely different to the flagged one)\",\n",
        "    \"more videos like reported videos\",\n",
        "    \"similar video to the reported video (driving-related)\",\n",
        "    \"more videos like reported video\",\n",
        "    \"more videos like this one\",\n",
        "    \"recommendation- more videos like the reported video\",\n",
        "    \"- more videos like the reported video\",\n",
        "    \"similar video to the reported video.\",\n",
        "    \"more vidoes like the reported video\",\n",
        "    \"more videos liek the reported video\",\n",
        "    \"same channel\",\n",
        "    \"more videos liek the one reported\",\n",
        "    \"mostly similar videos\",\n",
        "    \"more videos like reported vidoe\",\n",
        "    \"more videos like the reported video (progressively more relevant content)\",\n",
        "    \"recommendations from shocking and chiropractic videos so slightly similar.\",\n",
        "    \"more vides like the reported video.\",\n",
        "    \"more videos like the reported video, the reported video in the recommendations\",\n",
        "    \"from the same channel\",\n",
        "    \"recommendations- more videos like the reported video.\",\n",
        "    \"more videos like the reported videos (i think)\",\n",
        "], \"related videos\", inplace = True)\n",
        "\n",
        "ra_data.trail_cat.replace([\n",
        "    \"reported video is present in the trail (three times)\",\n",
        "    \"reported video is present in the trail.\",\n",
        "    \"video in trail\",\n",
        "    \"reported video is present in the trail\",\n",
        "    \"reported video present in the trail\",\n",
        "    \"same video and more videos like reported video\",\n",
        "    \"same video\",\n",
        "    \"reported video is in the trail\",\n",
        "    \"the reported video is in the recommendations\",\n",
        "    \"reported video is present in the trail & more videos like the reported video\",\n",
        "    \"reported video is present in the trail & other video is completely unreated to the reported video\",\n",
        "    \"the reported video is featured in the trail.\",\n",
        "], \"reported video is present in the trail\", inplace = True)\n",
        "\n",
        "ra_data.trail_cat.replace([\n",
        "    \"completely opposite political beliefs from the reported video.\",\n",
        "    \"video like the reported video.\",\n",
        "    \"some videos like the reported video.\",\n",
        "    \"completely unrealted to the reported video\",\n",
        "], \"unrelated videos\", inplace = True)\n",
        "\n",
        "ra_data.trail_cat.replace([\n",
        "    \"progressively more extreme content.\",\n",
        "    \"progressivly more extreme content\",\n",
        "], \"progressively more extreme content\", inplace = True)\n",
        "\n",
        "ra_data.trail_cat.replace([\n",
        "    \"other - unavailable video\",\n",
        "    \"--\",\n",
        "    \"-\",\n",
        "    \"---\",\n",
        "    \"direct  visit\",\n",
        "    \"unclear\",\n",
        "    \"direct\",\n",
        "    \"other\",\n",
        "    \"recommendation from unavailable video (youtube.com)\",\n",
        "    \"recommendations\",\n",
        "    \"unavailable\",\n",
        "    \"accessed directly\",\n",
        "    \"other - direct visit\",\n",
        "    \"recommendation\",\n",
        "    \"direct search\",\n",
        "    \"search\",\n",
        "    \"other - one unavailable video\",\n",
        "    \"other (this was a comedy video)\",\n",
        "    \"music videos\",\n",
        "    \"other - videos unavailable\",\n",
        "    \"searched content\",\n",
        "    \"other: search results\",\n",
        "    \"other (channel page)\",\n",
        "    \"other (no trail)\",\n",
        "    \"recommendation-\",\n",
        "    \"direct visit\",\n",
        "    \"other - unavailable videos\",\n",
        "    \"other - unavailable videos\",\n",
        "    \"videos in the trail are all unavailable.\",\n",
        "    \"direct visit.\",\n",
        "    \"no videos in the trail are still available.\",\n",
        "    \"other channel page\",\n",
        "    \"x2 unavailable videos\",\n",
        "    \"direct visit - unavailable\",\n",
        "    \"other: channel page\",\n",
        "], \"unknown\", inplace = True)"
      ],
      "execution_count": null,
      "outputs": []
    },
    {
      "cell_type": "code",
      "metadata": {
        "id": "bs4dINXyEfJG"
      },
      "source": [
        "ra_data.trail_cat.value_counts()"
      ],
      "execution_count": null,
      "outputs": []
    },
    {
      "cell_type": "code",
      "metadata": {
        "id": "08n-J0YfvdFw"
      },
      "source": [
        "data_table.DataTable(pd.DataFrame(ra_data.subcategory.value_counts()))"
      ],
      "execution_count": null,
      "outputs": []
    },
    {
      "cell_type": "code",
      "metadata": {
        "id": "uJFjPxgIh0Ta"
      },
      "source": [
        "ra_data['video_id'] = ra_data.video_url.str[-11:]"
      ],
      "execution_count": null,
      "outputs": []
    },
    {
      "cell_type": "code",
      "metadata": {
        "id": "UTvZmb8Qh0Tb"
      },
      "source": [
        "ra_joined = pd.merge(left=clean_reports_data, right=ra_data, how='left', left_on='report_id', right_on='regret_id')"
      ],
      "execution_count": null,
      "outputs": []
    },
    {
      "cell_type": "markdown",
      "metadata": {
        "id": "K4Jj9z7KmZ2r"
      },
      "source": [
        "# Results"
      ]
    },
    {
      "cell_type": "markdown",
      "metadata": {
        "id": "sWgrhp33mbsc"
      },
      "source": [
        "## Total users and reports"
      ]
    },
    {
      "cell_type": "code",
      "metadata": {
        "id": "WhHkpVnUeye_"
      },
      "source": [
        "total_users = len(main_data.installation_id.unique())\n",
        "total_reports = len(reports_data)\n",
        "total_reports_dedup = len(reports_data[~ reports_data.report_id.isin(duplicate_reports)])\n",
        "distinct_videos = len(clean_reports_data.regret_video_id.unique())\n",
        "total_analysis_reports = len(clean_reports_data)\n",
        "total_analysis_reports_dedup = len(clean_reports_data[~ clean_reports_data.report_id.isin(duplicate_reports)])\n",
        "total_users_with_report = len(reports_data.installation_id.unique())\n",
        "total_countries = len(list(filter(None, main_data.country.unique())))\n",
        "total_countries_with_report = len(list(filter(None, reports_data.country.unique())))\n",
        "first_data_date = main_data.submission_date.min()\n",
        "ra_data_count = len(ra_data.query(\"on_yt!='unknown'\"))\n",
        "\n",
        "print(f\"Total users: {total_users}; Total reports: {total_reports}; Total reports removing outliers: {total_analysis_reports}\")\n",
        "print(f\"Total users with report: {total_users_with_report}; Total countries: {total_countries}; Total countries with report: {total_countries_with_report}\")\n",
        "print(f\"First data date: {first_data_date}\")\n",
        "print(f\"Total Reports without dupes: {total_reports_dedup}; Total Reports without dupes or outliers: {total_analysis_reports_dedup}\")\n",
        "print(f\"RA videos: {ra_data_count}; distinct videos: {distinct_videos}; RA rate: {ra_data_count / distinct_videos}\")"
      ],
      "execution_count": null,
      "outputs": []
    },
    {
      "cell_type": "code",
      "metadata": {
        "id": "T_KGRvPwCKRq"
      },
      "source": [
        "# Outlier reports\n",
        "\n",
        "reports_data[reports_data.installation_id.isin(outliers)].installation_id.value_counts()"
      ],
      "execution_count": null,
      "outputs": []
    },
    {
      "cell_type": "code",
      "metadata": {
        "id": "BZnXCITiCaOo"
      },
      "source": [
        "# Reports distribution\n",
        "\n",
        "data_table.DataTable(pd.DataFrame(reports_data.installation_id.value_counts()))"
      ],
      "execution_count": null,
      "outputs": []
    },
    {
      "cell_type": "markdown",
      "metadata": {
        "id": "pXO5VWKXq9QP"
      },
      "source": [
        "## Engagement of regret videos"
      ]
    },
    {
      "cell_type": "code",
      "metadata": {
        "id": "BTQ501Clm8gD"
      },
      "source": [
        "median_report_views = np.median([i for i in clean_reports_data.regret_video_view_count if (~np.isnan(i) and i > 0)])\n",
        "median_trail_views = np.median([i for i in all_trail_views if ( i is not None and ~np.isnan(i) and i > 0)])\n",
        "median_report_age = np.median([i for i in clean_reports_data.age if (~np.isnan(i) and i >= 0)])\n",
        "median_trail_age = np.median([i for i in all_trail_ages if i is not None])\n",
        "temp_valid_report_videos = clean_reports_data.query(\"regret_video_view_count > 0 & age > 0\")\n",
        "median_report_views_per_day = np.median([i.regret_video_view_count / i.age for x, i in temp_valid_report_videos.iterrows()])\n",
        "temp_valid_trail_videos = trails_data.query(\"views > 0 & age > 0\")\n",
        "median_trail_views_per_day = np.median([i.views / i.age for x, i in temp_valid_trail_videos.iterrows()])\n",
        "\n",
        "print(f\"Trail engagement: {median_trail_views_per_day}; Report engagement: {median_report_views_per_day}; Factor: {median_report_views_per_day / median_trail_views_per_day}\")"
      ],
      "execution_count": null,
      "outputs": []
    },
    {
      "cell_type": "markdown",
      "metadata": {
        "id": "3ZF4zQJF0WQB"
      },
      "source": [
        "## Regret rate by entry point"
      ]
    },
    {
      "cell_type": "code",
      "metadata": {
        "id": "wa0UZqw1tdbL"
      },
      "source": [
        "rate_recc = my_prop_confint(uls2_data.regrets_recc.sum(), uls2_data.watch_page_videos_recc.sum(), for_plot=False)\n",
        "rate_search = my_prop_confint(uls2_data.regrets_search.sum(), uls2_data.watch_page_videos_search.sum(), for_plot=False)\n",
        "\n",
        "print(f\"Recc Rate: {rate_recc[0] * 10000}; Search Rate: {rate_search[0] * 10000}; Factor: {rate_recc[0] / rate_search[0]}\")"
      ],
      "execution_count": null,
      "outputs": []
    },
    {
      "cell_type": "markdown",
      "metadata": {
        "id": "sTw0CoET6ZtK"
      },
      "source": [
        "## Takedown analysis"
      ]
    },
    {
      "cell_type": "code",
      "metadata": {
        "id": "R0VSk8EibAE8"
      },
      "source": [
        "# Assessment of whether each YouTube-provided reason for takedown indicates violative content.\n",
        "\n",
        "reason_map = {\n",
        "  'Available now.': 'no',\n",
        "  'Invalid.': 'no',\n",
        "  \"This video has been removed for violating YouTube's Community Guidelines.\": 'yes',\n",
        "  \"This video has been removed for violating YouTube's Terms of Service.\": 'yes',\n",
        "  \"This video has been removed for violating YouTube's policy on harassment and bullying.\": 'yes',\n",
        "  \"This video has been removed for violating YouTube's policy on hate speech. Learn more about combating hate speech in your country.\": 'yes',\n",
        "  \"This video has been removed for violating YouTube's policy on spam, deceptive practices, and scams.\": 'yes',\n",
        "  \"This video has been removed for violating YouTube's policy on violent or graphic content.\": 'yes',\n",
        "  'Video unavailable.': 'maybe',\n",
        "  'Video unavailable: This video has been removed by the uploader.': 'no',\n",
        "  'Video unavailable: This video is no longer available because the YouTube account associated with this video has been terminated.': 'yes',\n",
        "  'Video unavailable: This video is no longer available due to a copyright claim.': 'no',\n",
        "  'Video unavailable: This video is private.': 'no'\n",
        "}"
      ],
      "execution_count": null,
      "outputs": []
    },
    {
      "cell_type": "code",
      "metadata": {
        "id": "UyO-NJmD1qVV"
      },
      "source": [
        "temp_takedown_data = td_data\n",
        "temp_takedown_data['violative'] = [reason_map[r] for r in temp_takedown_data.reason]\n",
        "temp_takedown_data['recc'] = [len(clean_reports_data[(clean_reports_data.regret_recc == 1) & (clean_reports_data.regret_video_id == r[-11:])]) > 0 for r in temp_takedown_data.link]\n",
        "recc_takedowns = len(temp_takedown_data.query(\"recc\"))\n",
        "total_recc = len(clean_reports_data.query(\"regret_recc == 1\").regret_video_id.unique())\n",
        "\n",
        "print(f\"Recc takedowns: {recc_takedowns}; Recc takedown rate: {recc_takedowns / total_recc}\")"
      ],
      "execution_count": null,
      "outputs": []
    },
    {
      "cell_type": "code",
      "metadata": {
        "id": "hZI9_7TuEoeF"
      },
      "source": [
        "# Takedown reasons among taken down regrets that were recommended to our users.\n",
        "\n",
        "temp_recc_takedown_data = temp_takedown_data.query(\"recc\")\n",
        "temp_recc_takedown_data.reason.value_counts()"
      ],
      "execution_count": null,
      "outputs": []
    },
    {
      "cell_type": "code",
      "metadata": {
        "id": "8uhS427u9mqw"
      },
      "source": [
        "temp_recc_takedown_data.query(\"recc\").reason.value_counts(normalize=True)"
      ],
      "execution_count": null,
      "outputs": []
    },
    {
      "cell_type": "code",
      "metadata": {
        "id": "hALnkactc5IR"
      },
      "source": [
        "labels = temp_recc_takedown_data.violative.value_counts().index.to_list()\n",
        "values = [temp_recc_takedown_data.violative.value_counts()[k] for k in temp_recc_takedown_data.violative.value_counts().index.to_list()]\n",
        "\n",
        "fig = go.Figure(data=[go.Pie(labels=labels, values=values, textinfo='label+value+percent')])\n",
        "\n",
        "fig.update_layout(\n",
        "    title=\"Takedown violativeness\",\n",
        "    width=650,\n",
        ")\n",
        "\n",
        "ws = gc.open(\"Graph Data\").worksheet(\"takedown violativeness\")\n",
        "gd.set_with_dataframe(ws, pd.DataFrame({\n",
        "    \"label\": labels,\n",
        "    \"value\": values,\n",
        "}))\n",
        "\n",
        "fig.show()"
      ],
      "execution_count": null,
      "outputs": []
    },
    {
      "cell_type": "code",
      "metadata": {
        "id": "YJSQFpAxdUfS"
      },
      "source": [
        "temp_recc_viol_takedown_data = temp_takedown_data.query(\"recc & violative != 'no'\")\n",
        "recc_violative_takedowns = len(temp_recc_viol_takedown_data)\n",
        "total_recc = len(clean_reports_data.query(\"regret_recc == 1\").regret_video_id.unique())\n",
        "\n",
        "print(f\"Recc violative takedowns: {recc_violative_takedowns}; Recc violative takedown rate: {recc_violative_takedowns / total_recc}\")"
      ],
      "execution_count": null,
      "outputs": []
    },
    {
      "cell_type": "code",
      "metadata": {
        "id": "IYNCAnL7h0Kb"
      },
      "source": [
        "viol_recc_takedown_rate = len(temp_recc_viol_takedown_data) / len(clean_reports_data.query(\"regret_recc==1\").regret_video_id.unique())\n",
        "viol_recc_takedown_views = clean_reports_data[clean_reports_data.regret_video_id.isin(temp_recc_viol_takedown_data.link.str[-11:])].regret_video_view_count.sum()\n",
        "viol_recc_takedown_count = clean_reports_data[clean_reports_data.regret_video_id.isin(temp_recc_viol_takedown_data.link.str[-11:])].regret_video_view_count.count()\n",
        "viol_recc_takedown_days = clean_reports_data[clean_reports_data.regret_video_id.isin(temp_recc_viol_takedown_data.link.str[-11:])].age.sum()\n",
        "\n",
        "print(f\"Recc violative takedown rate: {viol_recc_takedown_rate}; Recc violative takedown views: {viol_recc_takedown_views}\")\n",
        "print(f\"Recc violative takedown views per: {viol_recc_takedown_views / viol_recc_takedown_count}; Recc violative takedown days per: {viol_recc_takedown_days / viol_recc_takedown_count}\")"
      ],
      "execution_count": null,
      "outputs": []
    },
    {
      "cell_type": "markdown",
      "metadata": {
        "id": "Mvwz4KfhsLlK"
      },
      "source": [
        "## Rates by country"
      ]
    },
    {
      "cell_type": "code",
      "metadata": {
        "id": "piie8E9YzIDI"
      },
      "source": [
        "# Classifying primary language or each country as English or non-English from CIA world factbook\n",
        "# See report for more details.\n",
        "\n",
        "langmap = {\n",
        "    \"AR\": 0,\n",
        "    \"AU\": 1,\n",
        "    \"BE\": 0,\n",
        "    \"BR\": 0,\n",
        "    \"CA\": 1,\n",
        "    \"DE\": 0,\n",
        "    \"ES\": 0,\n",
        "    \"FI\": 0,\n",
        "    \"FR\": 0,\n",
        "    \"GB\": 1,\n",
        "    \"GR\": 0,\n",
        "    \"HU\": 0,\n",
        "    \"IN\": 0,\n",
        "    \"IT\": 0,\n",
        "    \"JP\": 0,\n",
        "    \"MX\": 0,\n",
        "    \"NL\": 0,\n",
        "    \"PH\": 0,\n",
        "    \"PL\": 0,\n",
        "    \"RO\": 0,\n",
        "    \"RU\": 0,\n",
        "    \"SE\": 0,\n",
        "    \"TR\": 0,\n",
        "    \"UA\": 0,\n",
        "    \"US\": 1,\n",
        "    \"IE\": 1,\n",
        "    \"ZA\": 0,\n",
        "    \"NZ\": 1,\n",
        "    \"ID\": 0,\n",
        "    \"BD\": 0,\n",
        "    \"SG\": 1,\n",
        "    \"PT\": 0,\n",
        "    \"MY\": 0,\n",
        "    \"BG\": 0,\n",
        "    \"CL\": 0,\n",
        "    \"NP\": 0,\n",
        "    \"RS\": 0,\n",
        "    \"CO\": 0,\n",
        "    \"TW\": 0,\n",
        "    \"CH\": 0,\n",
        "    \"SI\": 0,\n",
        "    \"DK\": 0,\n",
        "    \"AT\": 0,\n",
        "    \"EE\": 0,\n",
        "    \"CZ\": 0,\n",
        "    \"VN\": 0,\n",
        "    \"NO\": 0,\n",
        "\n",
        "}\n",
        "\n",
        "# Countries that YT reports focusing on (see report)\n",
        "focus = [\"US\", \"GB\", \"IR\", \"ZA\", \"BR\", \"FR\", \"DE\", \"MX\", \"ES\"]\n",
        "focus_en = [\"US\", \"GB\", \"IR\"]"
      ],
      "execution_count": null,
      "outputs": []
    },
    {
      "cell_type": "code",
      "metadata": {
        "id": "3b628B0KvQ6v"
      },
      "source": [
        "# Set up country data\n",
        "\n",
        "countries = list(filter(None, uls2_data.country.unique()))\n",
        "\n",
        "def get_name(country_code):\n",
        "  if country_code == \"US\":\n",
        "    return \"United States\"  # Needed as this table uses USA but we need to link to data that uses United States\n",
        "  try:\n",
        "    return country_name_data.query(\"country_code==@country_code\").country_name.item()\n",
        "  except:\n",
        "    return \"unknown\"\n",
        "\n",
        "def get_population(country_code):\n",
        "  try:\n",
        "    return wbpy.IndicatorAPI().get_dataset(\"SP.POP.TOTL\", [country_code], date=\"2019:2020\").as_dict()[country_code][\"2019\"]\n",
        "  except:\n",
        "    return None\n",
        "\n",
        "am_data = pd.read_csv(\n",
        "  f\"https://drive.google.com/uc?export=download&id=1rb-ioB9OZtL_aHj96xHPh55k-etxVUA5\", # 2019 from statista\n",
        "  sep=';',\n",
        "  thousands=','\n",
        ")\n",
        "\n",
        "country_data = pd.DataFrame({\n",
        "    \"country_code\" : countries,\n",
        "    \"country_name\": [get_name(c) for c in countries],\n",
        "    \"regret_rate_num\": [uls2_data.query(\"country == @c\")['regrets_total'].sum() for c in countries],\n",
        "    \"pandemic_rate_num\": [len(ra_joined.query(\"pandemic == 'yes' & (on_yt=='no' | recommended=='no') & country==@c\")) for c in countries],\n",
        "    \"regret_rate_den\": [uls2_data.query(\"country == @c\")[\"watch_page_videos_total\"].sum() for c in countries],\n",
        "    \"language\": [langmap[c] if c in langmap else -1 for c in countries],\n",
        "    \n",
        "    \"population\": [get_population(c) for c in countries],\n",
        "    \"ad_market\": [\n",
        "      am_data[am_data.Country == get_name(c)].Amount.astype(float).item()\n",
        "      if len(am_data[am_data.Country == get_name(c)].Amount) == 1\n",
        "      else None\n",
        "      for c in countries]\n",
        "})\n",
        "\n",
        "country_data.loc[:, 'regret_rate'] = country_data.regret_rate_num / country_data.regret_rate_den\n",
        "country_data.loc[:, 'ci'] = [my_prop_confint(i.regret_rate_num, i.regret_rate_den) if i.regret_rate_den > 0 else None for x, i in country_data.iterrows()]\n",
        "country_data.loc[:, 'variance'] = [None if i.ci is None else i.ci[1] + i.ci[2] for r, i in country_data.iterrows()]\n",
        "country_data.loc[:, 'ci'] = [my_prop_confint(i.regret_rate_num, i.regret_rate_den) if i.regret_rate_den > 0 else None for x, i in country_data.iterrows()]\n",
        "country_data.loc[:, 'ad_market_per_capita'] = country_data.ad_market / country_data.population\n",
        "country_data.loc[:, 'log_ad_market_per_capita'] = np.log(country_data.ad_market_per_capita)\n",
        "country_data.loc[:, 'log_ad_market'] = np.log(country_data.ad_market)\n",
        "country_data = country_data.sort_values(\"regret_rate\")"
      ],
      "execution_count": null,
      "outputs": []
    },
    {
      "cell_type": "code",
      "metadata": {
        "id": "Ucr59Qwo1We5"
      },
      "source": [
        "temp = country_data.query(\"variance < 0.0011\")[[\"country_name\", \"regret_rate\", \"ci\", \"language\", ]].dropna()\n",
        "colors = {0: \"Green\", 1: \"Blue\", -1: \"Red\"}\n",
        "fig = go.Figure(data=[\n",
        "  go.Bar(\n",
        "        y=[temp.iloc[i].country_name],\n",
        "        x=[temp.iloc[i].regret_rate * 10000],\n",
        "        error_x = dict(\n",
        "            type='data',\n",
        "            symmetric=False,\n",
        "            array=[temp.iloc[i].ci[2] * 10000],\n",
        "            arrayminus = [temp.iloc[i].ci[1] * 10000]\n",
        "        ),\n",
        "        orientation='h',\n",
        "        marker=dict(color=colors[temp.iloc[i].language]),\n",
        "        name='Primary-non-English' if temp.iloc[i].language==0 else 'Primary-English' if temp.iloc[i].language==1 else 'unknown',\n",
        "        legendgroup='Primary-non-English' if temp.iloc[i].language==0 else 'Primary-English' if temp.iloc[i].language==1 else 'unknown',\n",
        "        showlegend = temp.iloc[i].country_name in [\"Brazil\", \"United States\"]\n",
        "    )\n",
        "  for i in range(len(temp))\n",
        "])\n",
        "\n",
        "fig.update_layout(\n",
        "    title=\"Regret Rates by Country\",\n",
        "    xaxis = dict(title = \"Regrets per 10000 videos\"),\n",
        "    width = 800,\n",
        "    height = 900                \n",
        ")\n",
        "\n",
        "ws = gc.open(\"Graph Data\").worksheet(\"country rates\")\n",
        "gd.set_with_dataframe(ws, pd.DataFrame({\n",
        "    \"name\": temp.country_name,\n",
        "    \"rate\": [i * 10000 for i in temp.regret_rate],\n",
        "    \"error_bar_delta_plus\": [i[2] * 10000 for i in temp.ci],\n",
        "    \"error_bar_delta_minus\": [i[1] * 10000 for i in temp.ci],\n",
        "    \"language_1_is_eng_0_is_other\": temp.language,\n",
        "}))\n",
        "\n",
        "fig.show()"
      ],
      "execution_count": null,
      "outputs": []
    },
    {
      "cell_type": "code",
      "metadata": {
        "id": "mEkGVHwmeqhT"
      },
      "source": [
        "lang_classified_report_proportion = country_data.query(\"language != -1\").regret_rate_num.sum() / country_data.regret_rate_num.sum()\n",
        "\n",
        "temp = country_data.query(\"language==1\")\n",
        "english_regret_rate = my_prop_confint(temp.regret_rate_num.sum(), temp.regret_rate_den.sum(), for_plot=False)\n",
        "\n",
        "temp = country_data.query(\"language==0\")\n",
        "non_english_regret_rate = my_prop_confint(temp.regret_rate_num.sum(), temp.regret_rate_den.sum(), for_plot=False)\n",
        "\n",
        "print(f\"Proportion of reports with classified language: {lang_classified_report_proportion}\")\n",
        "print(f\"English rate: {english_regret_rate}; nonEnglish rate: {non_english_regret_rate}\")"
      ],
      "execution_count": null,
      "outputs": []
    },
    {
      "cell_type": "code",
      "metadata": {
        "id": "IefA9Rp-jcO-"
      },
      "source": [
        "lang_classified_report_proportion = country_data.query(\"language != -1\").pandemic_rate_num.sum() / country_data.pandemic_rate_num.sum()\n",
        "\n",
        "temp = country_data.query(\"language==1\")\n",
        "english_regret_rate = my_prop_confint(temp.pandemic_rate_num.sum(), temp.regret_rate_den.sum(), for_plot=False)\n",
        "\n",
        "temp = country_data.query(\"language==0\")\n",
        "non_english_regret_rate = my_prop_confint(temp.pandemic_rate_num.sum(), temp.regret_rate_den.sum(), for_plot=False)\n",
        "\n",
        "print(f\"PANDEMIC Proportion of reports with classified language: {lang_classified_report_proportion}\")\n",
        "print(f\"PANDEMIC English rate: {english_regret_rate}; nonEnglish rate: {non_english_regret_rate}\")"
      ],
      "execution_count": null,
      "outputs": []
    },
    {
      "cell_type": "code",
      "metadata": {
        "id": "3cuh12O1iX6O"
      },
      "source": [
        "tempa = country_data[country_data.country_code.isin(focus_en)]\n",
        "focus_regret_rate = my_prop_confint(tempa.regret_rate_num.sum(), tempa.regret_rate_den.sum(), for_plot=False)\n",
        "\n",
        "tempb = country_data[~country_data.country_code.isin(focus_en)]\n",
        "non_focus_regret_rate = my_prop_confint(tempb.regret_rate_num.sum(), tempb.regret_rate_den.sum(), for_plot=False)\n",
        "\n",
        "print(f\"Focus rate: {focus_regret_rate}; non-focus rate: {non_focus_regret_rate}\")\n",
        "print(proportions_ztest([tempa.regret_rate_num.sum(), tempb.regret_rate_num.sum()], [tempa.regret_rate_den.sum(), tempb.regret_rate_den.sum()]))"
      ],
      "execution_count": null,
      "outputs": []
    },
    {
      "cell_type": "markdown",
      "metadata": {
        "id": "ENnjMFy-XGbq"
      },
      "source": [
        "## Deactivation criteria\n"
      ]
    },
    {
      "cell_type": "code",
      "metadata": {
        "id": "MmywjTOJ7DTP"
      },
      "source": [
        "%%bigquery long_data --project moz-fx-data-bq-regrets-report\n",
        "WITH deletion_requests_t AS (\n",
        "  SELECT\n",
        "    event_metadata.client_timestamp AS timestamp,\n",
        "    data_deletion_request.extension_installation_uuid AS installation_id,\n",
        "  FROM\n",
        "    `moz-fx-data-shared-prod.regrets_reporter.regrets_reporter_update`\n",
        "  WHERE\n",
        "    date(submission_timestamp) >= \"2020-06-01\"  -- Filter on submission_timestamp is required by policy.\n",
        "    AND data_deletion_request IS NOT NULL\n",
        "),\n",
        "cleaned_t AS (\n",
        "  SELECT *\n",
        "  FROM\n",
        "    `moz-fx-data-shared-prod.regrets_reporter.regrets_reporter_update` main_t\n",
        "  LEFT JOIN\n",
        "    deletion_requests_t\n",
        "  ON\n",
        "    main_t.event_metadata.extension_installation_uuid = deletion_requests_t.installation_id\n",
        "    AND main_t.event_metadata.client_timestamp <= deletion_requests_t.timestamp\n",
        "  WHERE\n",
        "    deletion_requests_t.installation_id IS NULL\n",
        "    AND date(submission_timestamp) <= \"2021-5-31\"\n",
        "),\n",
        "\n",
        "active_days_t AS (\n",
        "  SELECT\n",
        "    event_metadata.extension_installation_uuid AS id,\n",
        "    ARRAY_AGG(DISTINCT CAST(submission_timestamp AS DATE) ORDER BY CAST(submission_timestamp AS DATE)) AS active_days\n",
        "  FROM\n",
        "    cleaned_t\n",
        "  GROUP BY\n",
        "    id\n",
        "),\n",
        "report_days_t AS (\n",
        "  SELECT\n",
        "    event_metadata.extension_installation_uuid AS id,\n",
        "    ARRAY_AGG(DISTINCT CAST(submission_timestamp AS DATE) ORDER BY CAST(submission_timestamp AS DATE)) AS report_days\n",
        "  FROM\n",
        "    cleaned_t\n",
        "  WHERE\n",
        "    regret_report IS NOT NULL\n",
        "  GROUP BY\n",
        "    id\n",
        ")\n",
        "SELECT * FROM active_days_t LEFT JOIN report_days_t USING(id)"
      ],
      "execution_count": null,
      "outputs": []
    },
    {
      "cell_type": "code",
      "metadata": {
        "id": "CPiYzRBwODrY"
      },
      "source": [
        "long_data[\"last_report\"] = [max(days, default=None) for days in long_data.report_days]\n",
        "long_data[\"last_active\"] = [max(days) for days in long_data.active_days]\n",
        "long_data[\"first_report\"] = [min(days, default=None) for days in long_data.report_days]\n",
        "long_data[\"first_active\"] = [min(days) for days in long_data.active_days]"
      ],
      "execution_count": null,
      "outputs": []
    },
    {
      "cell_type": "code",
      "metadata": {
        "id": "XbguiaG3cIeq"
      },
      "source": [
        "temp = long_data[~long_data.first_report.isnull()]\n",
        "for i in range(5):\n",
        "  print(len(temp[temp.first_report <= temp.first_active + pd.Timedelta(days=28*i)]) / len(temp))"
      ],
      "execution_count": null,
      "outputs": []
    },
    {
      "cell_type": "markdown",
      "metadata": {
        "id": "yH9cYurSpfc1"
      },
      "source": [
        "## Regret Categories"
      ]
    },
    {
      "cell_type": "code",
      "metadata": {
        "id": "asY6NvK0hQCu"
      },
      "source": [
        "evaluated_videos = len(ra_joined[ra_joined.on_yt.isin([\"yes\", \"no\"]) & ra_joined.recommended.isin([\"yes\", \"no\"])])\n",
        "noton_videos = len(ra_joined[ra_joined.on_yt.isin([\"no\"])])\n",
        "notrecc_videos = len(ra_joined[ra_joined.recommended.isin([\"no\"])])\n",
        "neither_videos = evaluated_videos = len(ra_joined[ra_joined.on_yt.isin([\"no\"]) & ra_joined.recommended.isin([\"no\"])])\n",
        "\n",
        "print(f\"Total evaluated reports: {evaluated_videos}; Videos that should not be on YT: {noton_videos}; Videos that should not be recommended: {notrecc_videos}; Neither videos: {neither_videos}\")"
      ],
      "execution_count": null,
      "outputs": []
    },
    {
      "cell_type": "markdown",
      "metadata": {
        "id": "2I3a9K-Zs_Fc"
      },
      "source": [
        "## Pandemic languages"
      ]
    },
    {
      "cell_type": "code",
      "metadata": {
        "id": "avRePeT7aK99"
      },
      "source": [
        "english_rate_for_covid = len(ra_data.query(\"language=='english' & pandemic=='yes' & (on_yt=='no' | recommended=='no')\")) / len(ra_data.query(\"pandemic=='yes' & language != 'unknown' & (on_yt=='no' | recommended=='no')\"))\n",
        "english_rate_for_other = len(ra_data.query(\"language=='english' & pandemic=='no' & (on_yt=='no' | recommended=='no')\")) / len(ra_data.query(\"pandemic=='no' & language != 'unknown' & (on_yt=='no' | recommended=='no')\"))\n",
        "\n",
        "pandemic_rate_for_english = len(ra_data.query(\"language=='english' & pandemic=='yes' & (on_yt=='no' | recommended=='no')\")) / len(ra_data.query(\"language=='english' & (on_yt=='no' | recommended=='no')\"))\n",
        "pandemic_rate_for_other = len(ra_data.query(\"language!='english' & language != 'unknown' & pandemic=='yes' & (on_yt=='no' | recommended=='no')\")) / len(ra_data.query(\"language!='english' & language != 'unknown' & (on_yt=='no' | recommended=='no')\"))"
      ],
      "execution_count": null,
      "outputs": []
    },
    {
      "cell_type": "code",
      "metadata": {
        "id": "UGKShf9GaVhC"
      },
      "source": [
        "print(f\"English rate for pandemic-related regrets: {english_rate_for_covid}; English rate for other regrets: {english_rate_for_other}\")\n",
        "print(f\"Pandemic rate for English: {pandemic_rate_for_english}; Pandemic rate for non-English: {pandemic_rate_for_other}\")"
      ],
      "execution_count": null,
      "outputs": []
    },
    {
      "cell_type": "code",
      "metadata": {
        "id": "IK1Gg7Lt101Q"
      },
      "source": [
        "print(proportions_ztest([len(ra_data.query(\"language=='english' & pandemic=='yes' & (on_yt=='no' | recommended=='no')\")), len(ra_data.query(\"language!='english' & language!='unknown' & pandemic=='yes' & (on_yt=='no' | recommended=='no')\"))],\n",
        "                        [len(ra_data.query(\"pandemic!='unknown' & language=='english' & (on_yt=='no' | recommended=='no')\")), len(ra_data.query(\"pandemic!='unknown' & language!='english' & language!='unknown' & (on_yt=='no' | recommended=='no')\"))]))"
      ],
      "execution_count": null,
      "outputs": []
    },
    {
      "cell_type": "code",
      "metadata": {
        "id": "YouxEIlSx5QD"
      },
      "source": [
        "print(proportions_ztest([len(ra_data.query(\"language=='english' & pandemic=='yes' & (on_yt=='no' | recommended=='no')\")), len(ra_data.query(\"language=='english' & pandemic=='no' & (on_yt=='no' | recommended=='no')\"))],\n",
        "                        [len(ra_data.query(\"pandemic=='yes' & language != 'unknown' & (on_yt=='no' | recommended=='no')\")), len(ra_data.query(\"pandemic=='no' & language != 'unknown' & (on_yt=='no' | recommended=='no')\"))]))"
      ],
      "execution_count": null,
      "outputs": []
    },
    {
      "cell_type": "markdown",
      "metadata": {
        "id": "-fIdymxMAf-j"
      },
      "source": [
        "## Trail categories"
      ]
    },
    {
      "cell_type": "code",
      "metadata": {
        "id": "Jgj_tt7vYwKD"
      },
      "source": [
        "ra_data.trail_cat.value_counts()"
      ],
      "execution_count": null,
      "outputs": []
    },
    {
      "cell_type": "code",
      "metadata": {
        "id": "sK-sTfRS33tF"
      },
      "source": [
        "labels = [\n",
        "  \"related videos\",\n",
        "  \"unrelated videos\",\n",
        "  \"reported video is present in the trail\",\n",
        "  \"progressively more extreme content\",\n",
        "]\n",
        "values = [\n",
        "    ra_data.trail_cat.value_counts()[\"related videos\"],\n",
        "    ra_data.trail_cat.value_counts()[\"unrelated videos\"],\n",
        "    ra_data.trail_cat.value_counts()[\"reported video is present in the trail\"],\n",
        "    ra_data.trail_cat.value_counts()[\"progressively more extreme content\"],\n",
        "\n",
        "]\n",
        "\n",
        "fig = go.Figure(data=[go.Pie(labels=labels, values=values, textinfo='label+percent')])\n",
        "\n",
        "fig.update_layout(\n",
        "    title=\"Trail Categories\",\n",
        "    width=1250,\n",
        "    height = 800\n",
        ")\n",
        "\n",
        "fig.show()"
      ],
      "execution_count": null,
      "outputs": []
    },
    {
      "cell_type": "markdown",
      "metadata": {
        "id": "KGVMsoP-VjD-"
      },
      "source": [
        "## Regret source"
      ]
    },
    {
      "cell_type": "code",
      "metadata": {
        "id": "1DsKdZ2NAsDS"
      },
      "source": [
        "recc_count = len(clean_reports_data.query(\"regret_recc==1\"))\n",
        "search_count = len(clean_reports_data.query(\"regret_search==1\"))\n",
        "other_count = len(clean_reports_data) - recc_count - search_count\n",
        "\n",
        "labels = ['Recommendation','Search','Other']\n",
        "values = [recc_count, search_count, other_count]\n",
        "\n",
        "fig = go.Figure(data=[go.Pie(labels=labels, values=values, textinfo='label+percent')])\n",
        "\n",
        "fig.update_layout(\n",
        "    title=\"Regret Sources\",\n",
        "    width=600\n",
        ")\n",
        "\n",
        "ws = gc.open(\"Graph Data\").worksheet(\"regret source\")\n",
        "gd.set_with_dataframe(ws, pd.DataFrame({\n",
        "    \"label\": labels,\n",
        "    \"value\": values,\n",
        "}))\n",
        "\n",
        "fig.show()"
      ],
      "execution_count": null,
      "outputs": []
    },
    {
      "cell_type": "markdown",
      "metadata": {
        "id": "dHB77zRlARII"
      },
      "source": [
        "## Extreme examples and category examples"
      ]
    },
    {
      "cell_type": "code",
      "metadata": {
        "id": "8NIsTB27bmvy"
      },
      "source": [
        "ra_data.category.value_counts()"
      ],
      "execution_count": null,
      "outputs": []
    },
    {
      "cell_type": "code",
      "metadata": {
        "id": "1JamopmnEnE3"
      },
      "source": [
        "for c in [\"violent or dangerous content\", \"spam and deceptive practices\", \"sensitive content\", \"regulated goods\", \"pandemic-related\"]:\n",
        "    ws = gc.open(\"Weird/Harmful Examples\").worksheet(c)\n",
        "    gd.set_with_dataframe(ws, ra_data.query(f\"weird=='yes' & category=='{c}'\")[[\"regret_id\", \"content\", \"subcategory\", \"why_regret\", \"video_url\"]])"
      ],
      "execution_count": null,
      "outputs": []
    },
    {
      "cell_type": "code",
      "metadata": {
        "id": "9ur6h9Ry2956"
      },
      "source": [
        ""
      ],
      "execution_count": null,
      "outputs": []
    }
  ]
}